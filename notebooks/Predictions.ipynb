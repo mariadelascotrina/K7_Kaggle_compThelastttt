{
 "cells": [
  {
   "cell_type": "markdown",
   "id": "fa96b305",
   "metadata": {},
   "source": [
    "# 1. Libraries"
   ]
  },
  {
   "cell_type": "code",
   "execution_count": 144,
   "id": "d529e152",
   "metadata": {},
   "outputs": [],
   "source": [
    "import pandas as pd\n",
    "%matplotlib inline\n",
    "import numpy as np\n",
    "import pandas as pd\n",
    "import seaborn as sns\n",
    "sns.set_context(\"poster\")\n",
    "sns.set(rc={\"figure.figsize\": (12.,10.)})\n",
    "sns.set_style(\"whitegrid\")\n",
    "from sklearn import preprocessing\n",
    "le = preprocessing.LabelEncoder()\n",
    "from sklearn.model_selection import train_test_split as tts\n",
    "import pandas as pd\n",
    "from sklearn.model_selection import train_test_split as tts\n",
    "from sklearn.linear_model import LinearRegression as LinReg\n",
    "from sklearn import metrics\n",
    "import numpy as np\n",
    "from sklearn.linear_model import LogisticRegression\n",
    "from sklearn.metrics import accuracy_score, precision_score, recall_score, f1_score, fbeta_score, confusion_matrix\n",
    "from sklearn.metrics import balanced_accuracy_score\n",
    "from sklearn.metrics import confusion_matrix\n",
    "from sklearn.discriminant_analysis import LinearDiscriminantAnalysis\n",
    "from sklearn.neighbors import KNeighborsClassifier\n",
    "from sklearn.naive_bayes import GaussianNB\n",
    "from sklearn.tree import DecisionTreeClassifier\n",
    "from sklearn.svm import SVC\n",
    "from sklearn import metrics\n",
    "import numpy as np\n",
    "from sklearn.linear_model import Ridge, Lasso\n",
    "from sklearn.linear_model import SGDRegressor\n",
    "from sklearn.neighbors import KNeighborsRegressor\n",
    "from sklearn.ensemble import GradientBoostingRegressor\n",
    "from sklearn.svm import SVR\n",
    "from sklearn.model_selection import cross_val_score as cvs\n",
    "# Matplotlib inline para visualizar los gráficos de Matplotlib\n",
    "%matplotlib inline\n",
    "%config Inlinebackend.figure_format= 'retina'\n",
    "# Configuración para setear y que todas las fig de Seaborn salgan por defecto con este tamaño\n",
    "# Se puede especificar el tamaño de cada figura\n",
    "sns.set_context(\"poster\")\n",
    "sns.set(rc={\"figure.figsize\": (12.,6.)})\n",
    "sns.set_style(\"whitegrid\")\n",
    "from sklearn.tree import DecisionTreeRegressor\n",
    "from sklearn.ensemble import RandomForestRegressor"
   ]
  },
  {
   "cell_type": "markdown",
   "id": "97a40912",
   "metadata": {},
   "source": [
    "# 2. Import la data"
   ]
  },
  {
   "cell_type": "code",
   "execution_count": 145,
   "id": "715182fb",
   "metadata": {},
   "outputs": [],
   "source": [
    "train = pd.read_csv(\"data/train_clean.csv\")"
   ]
  },
  {
   "cell_type": "code",
   "execution_count": 146,
   "id": "4485a500",
   "metadata": {},
   "outputs": [
    {
     "data": {
      "text/html": [
       "<div>\n",
       "<style scoped>\n",
       "    .dataframe tbody tr th:only-of-type {\n",
       "        vertical-align: middle;\n",
       "    }\n",
       "\n",
       "    .dataframe tbody tr th {\n",
       "        vertical-align: top;\n",
       "    }\n",
       "\n",
       "    .dataframe thead th {\n",
       "        text-align: right;\n",
       "    }\n",
       "</style>\n",
       "<table border=\"1\" class=\"dataframe\">\n",
       "  <thead>\n",
       "    <tr style=\"text-align: right;\">\n",
       "      <th></th>\n",
       "      <th>id</th>\n",
       "      <th>carat</th>\n",
       "      <th>cut</th>\n",
       "      <th>color</th>\n",
       "      <th>clarity</th>\n",
       "      <th>depth</th>\n",
       "      <th>table</th>\n",
       "      <th>price</th>\n",
       "    </tr>\n",
       "  </thead>\n",
       "  <tbody>\n",
       "    <tr>\n",
       "      <th>0</th>\n",
       "      <td>0</td>\n",
       "      <td>1.14</td>\n",
       "      <td>2</td>\n",
       "      <td>4</td>\n",
       "      <td>3</td>\n",
       "      <td>61.0</td>\n",
       "      <td>56.0</td>\n",
       "      <td>9013</td>\n",
       "    </tr>\n",
       "  </tbody>\n",
       "</table>\n",
       "</div>"
      ],
      "text/plain": [
       "   id  carat  cut  color  clarity  depth  table  price\n",
       "0   0   1.14    2      4        3   61.0   56.0   9013"
      ]
     },
     "execution_count": 146,
     "metadata": {},
     "output_type": "execute_result"
    }
   ],
   "source": [
    "train.head(1)"
   ]
  },
  {
   "cell_type": "code",
   "execution_count": 147,
   "id": "e18a93e7",
   "metadata": {},
   "outputs": [
    {
     "data": {
      "image/png": "[encoded data removed]",
      "text/plain": [
       "<Figure size 864x432 with 1 Axes>"
      ]
     },
     "metadata": {},
     "output_type": "display_data"
    }
   ],
   "source": [
    "sns.boxplot(x=\"price\", data=train);"
   ]
  },
  {
   "cell_type": "code",
   "execution_count": 148,
   "id": "446f0820",
   "metadata": {},
   "outputs": [
    {
     "data": {
      "image/png": "[encoded data removed]",
      "text/plain": [
       "<Figure size 864x432 with 1 Axes>"
      ]
     },
     "metadata": {},
     "output_type": "display_data"
    }
   ],
   "source": [
    "fig = sns.histplot(x=train.price, kde=True)\n",
    "fig.axvline(x=train.price.mean(), color=\"red\", label=\"media\");"
   ]
  },
  {
   "cell_type": "code",
   "execution_count": 149,
   "id": "0cc73887",
   "metadata": {},
   "outputs": [],
   "source": [
    "fig.axvline(x=train.price.mean(), color=\"red\", label=\"media\");"
   ]
  },
  {
   "cell_type": "markdown",
   "id": "47efc2b7",
   "metadata": {},
   "source": [
    "# 3. Probando modelos"
   ]
  },
  {
   "cell_type": "code",
   "execution_count": 150,
   "id": "f179b0dd",
   "metadata": {},
   "outputs": [],
   "source": [
    "y = train.price"
   ]
  },
  {
   "cell_type": "code",
   "execution_count": 151,
   "id": "0935a157",
   "metadata": {},
   "outputs": [],
   "source": [
    "X = train.drop([\"price\", \"id\"], axis=1)"
   ]
  },
  {
   "cell_type": "code",
   "execution_count": 152,
   "id": "eda09621",
   "metadata": {},
   "outputs": [
    {
     "data": {
      "text/html": [
       "<div>\n",
       "<style scoped>\n",
       "    .dataframe tbody tr th:only-of-type {\n",
       "        vertical-align: middle;\n",
       "    }\n",
       "\n",
       "    .dataframe tbody tr th {\n",
       "        vertical-align: top;\n",
       "    }\n",
       "\n",
       "    .dataframe thead th {\n",
       "        text-align: right;\n",
       "    }\n",
       "</style>\n",
       "<table border=\"1\" class=\"dataframe\">\n",
       "  <thead>\n",
       "    <tr style=\"text-align: right;\">\n",
       "      <th></th>\n",
       "      <th>carat</th>\n",
       "      <th>cut</th>\n",
       "      <th>color</th>\n",
       "      <th>clarity</th>\n",
       "      <th>depth</th>\n",
       "      <th>table</th>\n",
       "    </tr>\n",
       "  </thead>\n",
       "  <tbody>\n",
       "    <tr>\n",
       "      <th>0</th>\n",
       "      <td>1.14</td>\n",
       "      <td>2</td>\n",
       "      <td>4</td>\n",
       "      <td>3</td>\n",
       "      <td>61.0</td>\n",
       "      <td>56.0</td>\n",
       "    </tr>\n",
       "    <tr>\n",
       "      <th>1</th>\n",
       "      <td>0.76</td>\n",
       "      <td>2</td>\n",
       "      <td>5</td>\n",
       "      <td>5</td>\n",
       "      <td>62.7</td>\n",
       "      <td>57.0</td>\n",
       "    </tr>\n",
       "    <tr>\n",
       "      <th>2</th>\n",
       "      <td>0.84</td>\n",
       "      <td>2</td>\n",
       "      <td>4</td>\n",
       "      <td>4</td>\n",
       "      <td>61.4</td>\n",
       "      <td>56.0</td>\n",
       "    </tr>\n",
       "    <tr>\n",
       "      <th>3</th>\n",
       "      <td>1.55</td>\n",
       "      <td>2</td>\n",
       "      <td>5</td>\n",
       "      <td>4</td>\n",
       "      <td>62.0</td>\n",
       "      <td>57.0</td>\n",
       "    </tr>\n",
       "    <tr>\n",
       "      <th>4</th>\n",
       "      <td>0.30</td>\n",
       "      <td>2</td>\n",
       "      <td>4</td>\n",
       "      <td>7</td>\n",
       "      <td>61.9</td>\n",
       "      <td>57.0</td>\n",
       "    </tr>\n",
       "    <tr>\n",
       "      <th>...</th>\n",
       "      <td>...</td>\n",
       "      <td>...</td>\n",
       "      <td>...</td>\n",
       "      <td>...</td>\n",
       "      <td>...</td>\n",
       "      <td>...</td>\n",
       "    </tr>\n",
       "    <tr>\n",
       "      <th>40450</th>\n",
       "      <td>0.40</td>\n",
       "      <td>2</td>\n",
       "      <td>2</td>\n",
       "      <td>2</td>\n",
       "      <td>60.8</td>\n",
       "      <td>57.0</td>\n",
       "    </tr>\n",
       "    <tr>\n",
       "      <th>40451</th>\n",
       "      <td>0.52</td>\n",
       "      <td>2</td>\n",
       "      <td>7</td>\n",
       "      <td>7</td>\n",
       "      <td>61.6</td>\n",
       "      <td>55.0</td>\n",
       "    </tr>\n",
       "    <tr>\n",
       "      <th>40452</th>\n",
       "      <td>1.00</td>\n",
       "      <td>3</td>\n",
       "      <td>2</td>\n",
       "      <td>6</td>\n",
       "      <td>59.4</td>\n",
       "      <td>63.0</td>\n",
       "    </tr>\n",
       "    <tr>\n",
       "      <th>40453</th>\n",
       "      <td>0.57</td>\n",
       "      <td>3</td>\n",
       "      <td>2</td>\n",
       "      <td>4</td>\n",
       "      <td>62.9</td>\n",
       "      <td>56.0</td>\n",
       "    </tr>\n",
       "    <tr>\n",
       "      <th>40454</th>\n",
       "      <td>2.09</td>\n",
       "      <td>4</td>\n",
       "      <td>7</td>\n",
       "      <td>5</td>\n",
       "      <td>57.2</td>\n",
       "      <td>64.0</td>\n",
       "    </tr>\n",
       "  </tbody>\n",
       "</table>\n",
       "<p>40455 rows × 6 columns</p>\n",
       "</div>"
      ],
      "text/plain": [
       "       carat  cut  color  clarity  depth  table\n",
       "0       1.14    2      4        3   61.0   56.0\n",
       "1       0.76    2      5        5   62.7   57.0\n",
       "2       0.84    2      4        4   61.4   56.0\n",
       "3       1.55    2      5        4   62.0   57.0\n",
       "4       0.30    2      4        7   61.9   57.0\n",
       "...      ...  ...    ...      ...    ...    ...\n",
       "40450   0.40    2      2        2   60.8   57.0\n",
       "40451   0.52    2      7        7   61.6   55.0\n",
       "40452   1.00    3      2        6   59.4   63.0\n",
       "40453   0.57    3      2        4   62.9   56.0\n",
       "40454   2.09    4      7        5   57.2   64.0\n",
       "\n",
       "[40455 rows x 6 columns]"
      ]
     },
     "execution_count": 152,
     "metadata": {},
     "output_type": "execute_result"
    }
   ],
   "source": [
    "X"
   ]
  },
  {
   "cell_type": "code",
   "execution_count": 153,
   "id": "c12ab298",
   "metadata": {},
   "outputs": [],
   "source": [
    "X_train, X_test, y_train, y_test = tts(X,y, test_size=0.2)"
   ]
  },
  {
   "cell_type": "code",
   "execution_count": 154,
   "id": "28291a00",
   "metadata": {},
   "outputs": [],
   "source": [
    "models={\n",
    "    'linnear': Ridge(),\n",
    "    'Tree': DecisionTreeRegressor(),\n",
    "    'Kneighbors': KNeighborsRegressor(),\n",
    "    'grad': GradientBoostingRegressor(),\n",
    "    'forest': RandomForestRegressor(),\n",
    "}"
   ]
  },
  {
   "cell_type": "code",
   "execution_count": 155,
   "id": "b3c49079",
   "metadata": {},
   "outputs": [],
   "source": [
    "#print('RMSE - Raiz Error Cuadratico Medio', np.sqrt(metrics.mean_squared_error(y_test, y_pred)))"
   ]
  },
  {
   "cell_type": "code",
   "execution_count": 156,
   "id": "0bad9dd8",
   "metadata": {},
   "outputs": [
    {
     "name": "stdout",
     "output_type": "stream",
     "text": [
      "ENTRENANDO:  linnear\n",
      "ENTRENANDO:  Tree\n",
      "ENTRENANDO:  Kneighbors\n",
      "ENTRENANDO:  grad\n",
      "ENTRENANDO:  forest\n"
     ]
    }
   ],
   "source": [
    "for name, model in models.items():\n",
    "    print(\"ENTRENANDO: \", name)\n",
    "    model.fit(X_train, y_train)"
   ]
  },
  {
   "cell_type": "code",
   "execution_count": 157,
   "id": "d18af77e",
   "metadata": {},
   "outputs": [
    {
     "name": "stdout",
     "output_type": "stream",
     "text": [
      "Ridge() - RMSE -  1247.0281099340266\n",
      "DecisionTreeRegressor() - RMSE -  734.842036912687\n",
      "KNeighborsRegressor() - RMSE -  1935.5656092074628\n",
      "GradientBoostingRegressor() - RMSE -  635.2149743948081\n",
      "RandomForestRegressor() - RMSE -  562.1253276152011\n"
     ]
    }
   ],
   "source": [
    "for name, model in models.items():\n",
    "    y_pred = model.predict(X_test)\n",
    "    print(f'{model} - RMSE - ', np.sqrt(metrics.mean_squared_error(y_test, y_pred)))"
   ]
  },
  {
   "cell_type": "markdown",
   "id": "090275ba",
   "metadata": {},
   "source": [
    "# 4. Elegimos Random Forest"
   ]
  },
  {
   "cell_type": "code",
   "execution_count": 158,
   "id": "9871ea39",
   "metadata": {},
   "outputs": [
    {
     "data": {
      "text/plain": [
       "RandomForestRegressor()"
      ]
     },
     "execution_count": 158,
     "metadata": {},
     "output_type": "execute_result"
    }
   ],
   "source": [
    "forest = RandomForestRegressor()\n",
    "forest.fit(X_train, y_train)"
   ]
  },
  {
   "cell_type": "code",
   "execution_count": 159,
   "id": "f526babf",
   "metadata": {},
   "outputs": [],
   "source": [
    "test = pd.read_csv(\"data/test.csv\")"
   ]
  },
  {
   "cell_type": "code",
   "execution_count": 160,
   "id": "3094c85d",
   "metadata": {},
   "outputs": [],
   "source": [
    "#vamos a limpiar el fichero test para poder hacer la predicción"
   ]
  },
  {
   "cell_type": "code",
   "execution_count": 161,
   "id": "8e50be7a",
   "metadata": {},
   "outputs": [],
   "source": [
    "dic_para_cut = {\"Ideal\": 2,\n",
    "                \"Premium\": 1,\n",
    "                \"Very Good\":3 ,\n",
    "                \"Good\":4,\n",
    "                \"Fair\":5 }"
   ]
  },
  {
   "cell_type": "code",
   "execution_count": 162,
   "id": "15f113b4",
   "metadata": {},
   "outputs": [],
   "source": [
    "test.cut = test.cut.map(dic_para_cut)"
   ]
  },
  {
   "cell_type": "code",
   "execution_count": 163,
   "id": "4f35d1aa",
   "metadata": {},
   "outputs": [],
   "source": [
    "dic_para_color = {\"G\":4,\n",
    "                  \"E\":2,\n",
    "                  \"F\":3,\n",
    "                  \"H\":5,\n",
    "                  \"D\":1,\n",
    "                  \"I\":6,\n",
    "                  \"J\":7}\n"
   ]
  },
  {
   "cell_type": "code",
   "execution_count": 164,
   "id": "02970200",
   "metadata": {},
   "outputs": [],
   "source": [
    "test.color = test.color.map(dic_para_color)"
   ]
  },
  {
   "cell_type": "code",
   "execution_count": 165,
   "id": "ccf18e57",
   "metadata": {},
   "outputs": [],
   "source": [
    "dic_para_clarity = {\"VVS2\": 3,\n",
    "                    \"VS2\": 5,\n",
    "                    \"VS1\": 4,\n",
    "                    \"SI2\": 7,\n",
    "                    \"SI1\": 6,\n",
    "                    \"VVS1\": 2,\n",
    "                    \"IF\": 1 ,\n",
    "                    \"I1\" : 8,\n",
    "                   }"
   ]
  },
  {
   "cell_type": "code",
   "execution_count": 166,
   "id": "7dcdcbcb",
   "metadata": {},
   "outputs": [],
   "source": [
    "test.clarity = test.clarity.map(dic_para_clarity)"
   ]
  },
  {
   "cell_type": "code",
   "execution_count": 167,
   "id": "701f55e6",
   "metadata": {},
   "outputs": [],
   "source": [
    "test.drop([\"x\",\"y\",\"z\", \"id\"], axis=1, inplace=True)"
   ]
  },
  {
   "cell_type": "code",
   "execution_count": 174,
   "id": "25a43b4d",
   "metadata": {},
   "outputs": [],
   "source": [
    "#hacemos la predicción"
   ]
  },
  {
   "cell_type": "code",
   "execution_count": 168,
   "id": "0a4eb98e",
   "metadata": {},
   "outputs": [],
   "source": [
    "y_pred = forest.predict(test)"
   ]
  },
  {
   "cell_type": "code",
   "execution_count": 169,
   "id": "1195aed9",
   "metadata": {},
   "outputs": [],
   "source": [
    "test[\"y_pred\"] = y_pred #dejamos la predicción en los datos  "
   ]
  },
  {
   "cell_type": "code",
   "execution_count": 170,
   "id": "f6d24a49",
   "metadata": {},
   "outputs": [],
   "source": [
    "test.drop([\"carat\", \"cut\",\"color\",\"clarity\",\"depth\",\"table\"], axis=1, inplace=True) #preparamos el dataset para subir"
   ]
  },
  {
   "cell_type": "code",
   "execution_count": 171,
   "id": "d7e09e05",
   "metadata": {},
   "outputs": [
    {
     "data": {
      "text/html": [
       "<div>\n",
       "<style scoped>\n",
       "    .dataframe tbody tr th:only-of-type {\n",
       "        vertical-align: middle;\n",
       "    }\n",
       "\n",
       "    .dataframe tbody tr th {\n",
       "        vertical-align: top;\n",
       "    }\n",
       "\n",
       "    .dataframe thead th {\n",
       "        text-align: right;\n",
       "    }\n",
       "</style>\n",
       "<table border=\"1\" class=\"dataframe\">\n",
       "  <thead>\n",
       "    <tr style=\"text-align: right;\">\n",
       "      <th></th>\n",
       "      <th>y_pred</th>\n",
       "    </tr>\n",
       "  </thead>\n",
       "  <tbody>\n",
       "    <tr>\n",
       "      <th>0</th>\n",
       "      <td>3301.48</td>\n",
       "    </tr>\n",
       "    <tr>\n",
       "      <th>1</th>\n",
       "      <td>3178.16</td>\n",
       "    </tr>\n",
       "  </tbody>\n",
       "</table>\n",
       "</div>"
      ],
      "text/plain": [
       "    y_pred\n",
       "0  3301.48\n",
       "1  3178.16"
      ]
     },
     "execution_count": 171,
     "metadata": {},
     "output_type": "execute_result"
    }
   ],
   "source": [
    "test.head(2)"
   ]
  },
  {
   "cell_type": "code",
   "execution_count": 173,
   "id": "37efef87",
   "metadata": {},
   "outputs": [],
   "source": [
    "test.to_csv(\"data/MariaThelast_prueba.csv\")"
   ]
  }
 ],
 "metadata": {
  "kernelspec": {
   "display_name": "ironhack",
   "language": "python",
   "name": "ironhack"
  },
  "language_info": {
   "codemirror_mode": {
    "name": "ipython",
    "version": 3
   },
   "file_extension": ".py",
   "mimetype": "text/x-python",
   "name": "python",
   "nbconvert_exporter": "python",
   "pygments_lexer": "ipython3",
   "version": "3.8.5"
  }
 },
 "nbformat": 4,
 "nbformat_minor": 5
}
